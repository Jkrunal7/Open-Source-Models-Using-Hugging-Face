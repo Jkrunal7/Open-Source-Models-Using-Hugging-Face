{
 "cells": [
  {
   "cell_type": "code",
   "execution_count": 1,
   "metadata": {},
   "outputs": [
    {
     "name": "stderr",
     "output_type": "stream",
     "text": [
      "f:\\Open Source Models Using HF\\venv\\lib\\site-packages\\tqdm\\auto.py:21: TqdmWarning: IProgress not found. Please update jupyter and ipywidgets. See https://ipywidgets.readthedocs.io/en/stable/user_install.html\n",
      "  from .autonotebook import tqdm as notebook_tqdm\n"
     ]
    }
   ],
   "source": [
    "from transformers.utils import logging\n",
    "logging.set_verbosity_error()\n",
    "from transformers import pipeline, Conversation"
   ]
  },
  {
   "cell_type": "code",
   "execution_count": 2,
   "metadata": {},
   "outputs": [
    {
     "name": "stderr",
     "output_type": "stream",
     "text": [
      "f:\\Open Source Models Using HF\\venv\\lib\\site-packages\\transformers\\modeling_utils.py:415: FutureWarning: You are using `torch.load` with `weights_only=False` (the current default value), which uses the default pickle module implicitly. It is possible to construct malicious pickle data which will execute arbitrary code during unpickling (See https://github.com/pytorch/pytorch/blob/main/SECURITY.md#untrusted-models for more details). In a future release, the default value for `weights_only` will be flipped to `True`. This limits the functions that could be executed during unpickling. Arbitrary objects will no longer be allowed to be loaded via this mode unless they are explicitly allowlisted by the user via `torch.serialization.add_safe_globals`. We recommend you start setting `weights_only=True` for any use case where you don't have full control of the loaded file. Please open an issue on GitHub for any issues related to this experimental feature.\n",
      "  return torch.load(checkpoint_file, map_location=\"cpu\")\n"
     ]
    }
   ],
   "source": [
    "chatbot = pipeline(task=\"text2text-generation\",\n",
    "                   model=\"./models/facebook/blenderbot-400M-distill\")"
   ]
  },
  {
   "cell_type": "code",
   "execution_count": 3,
   "metadata": {},
   "outputs": [
    {
     "name": "stdout",
     "output_type": "stream",
     "text": [
      "You: What are some fun activities I can do in the winter?\n"
     ]
    }
   ],
   "source": [
    "# Start the conversation\n",
    "conversation_history = \"User: What are some fun activities I can do in the winter?\\n\"\n",
    "print(f\"You: What are some fun activities I can do in the winter?\")"
   ]
  },
  {
   "cell_type": "code",
   "execution_count": 4,
   "metadata": {},
   "outputs": [
    {
     "name": "stdout",
     "output_type": "stream",
     "text": [
      "Bot:  I like to go skiing and snowboarding. What do you like to do?\n"
     ]
    }
   ],
   "source": [
    "# Generate a response\n",
    "response = chatbot(conversation_history, max_length=100, clean_up_tokenization_spaces=True)[0][\"generated_text\"]\n",
    "print(f\"Bot: {response}\")\n"
   ]
  },
  {
   "cell_type": "code",
   "execution_count": 5,
   "metadata": {},
   "outputs": [
    {
     "name": "stdout",
     "output_type": "stream",
     "text": [
      "You: What else do you recommend?\n",
      "Bot:  I like to go skiing and snowboarding. What do you like to do?\n"
     ]
    }
   ],
   "source": [
    "# Continue the conversation\n",
    "user_input = \"What else do you recommend?\"\n",
    "conversation_history += f\"User: {user_input}\\n\"\n",
    "response = chatbot(conversation_history, max_length=100, clean_up_tokenization_spaces=True)[0][\"generated_text\"]\n",
    "print(f\"You: {user_input}\")\n",
    "print(f\"Bot: {response}\")"
   ]
  },
  {
   "cell_type": "code",
   "execution_count": 2,
   "metadata": {},
   "outputs": [
    {
     "name": "stderr",
     "output_type": "stream",
     "text": [
      "f:\\Open Source Models Using HF\\venv\\lib\\site-packages\\transformers\\modeling_utils.py:415: FutureWarning: You are using `torch.load` with `weights_only=False` (the current default value), which uses the default pickle module implicitly. It is possible to construct malicious pickle data which will execute arbitrary code during unpickling (See https://github.com/pytorch/pytorch/blob/main/SECURITY.md#untrusted-models for more details). In a future release, the default value for `weights_only` will be flipped to `True`. This limits the functions that could be executed during unpickling. Arbitrary objects will no longer be allowed to be loaded via this mode unless they are explicitly allowlisted by the user via `torch.serialization.add_safe_globals`. We recommend you start setting `weights_only=True` for any use case where you don't have full control of the loaded file. Please open an issue on GitHub for any issues related to this experimental feature.\n",
      "  return torch.load(checkpoint_file, map_location=\"cpu\")\n"
     ]
    },
    {
     "name": "stdout",
     "output_type": "stream",
     "text": [
      "Running on local URL:  http://127.0.0.1:7861\n",
      "\n",
      "To create a public link, set `share=True` in `launch()`.\n"
     ]
    },
    {
     "data": {
      "text/html": [
       "<div><iframe src=\"http://127.0.0.1:7861/\" width=\"100%\" height=\"500\" allow=\"autoplay; camera; microphone; clipboard-read; clipboard-write;\" frameborder=\"0\" allowfullscreen></iframe></div>"
      ],
      "text/plain": [
       "<IPython.core.display.HTML object>"
      ]
     },
     "metadata": {},
     "output_type": "display_data"
    },
    {
     "data": {
      "text/plain": []
     },
     "execution_count": 2,
     "metadata": {},
     "output_type": "execute_result"
    },
    {
     "name": "stderr",
     "output_type": "stream",
     "text": [
      "f:\\Open Source Models Using HF\\venv\\lib\\site-packages\\gradio\\analytics.py:106: UserWarning: IMPORTANT: You are using gradio version 4.43.0, however version 4.44.1 is available, please upgrade. \n",
      "--------\n",
      "  warnings.warn(\n"
     ]
    }
   ],
   "source": [
    "import gradio as gr\n",
    "from transformers.utils import logging\n",
    "from transformers import pipeline\n",
    "\n",
    "logging.set_verbosity_error()\n",
    "\n",
    "# Initialize the chatbot pipeline\n",
    "chatbot = pipeline(task=\"text2text-generation\", model=\"./models/facebook/blenderbot-400M-distill\")\n",
    "\n",
    "# Initialize conversation history\n",
    "conversation_history = \"\"\n",
    "\n",
    "# Define the function to interact with the chatbot\n",
    "def chat_with_bot(user_input):\n",
    "    global conversation_history\n",
    "    # Append user input to conversation history\n",
    "    conversation_history += f\"User: {user_input}\\n\"\n",
    "    \n",
    "    # Generate the response from the chatbot\n",
    "    response = chatbot(conversation_history, max_length=100, clean_up_tokenization_spaces=True)[0][\"generated_text\"]\n",
    "    \n",
    "    # Append bot response to conversation history\n",
    "    conversation_history += f\"Bot: {response}\\n\"\n",
    "    \n",
    "    # Return the bot's response\n",
    "    return response\n",
    "\n",
    "# Create a Gradio interface\n",
    "iface = gr.Interface(\n",
    "    fn=chat_with_bot, \n",
    "    inputs=gr.Textbox(label=\"Your message\", placeholder=\"Ask me something...\"),\n",
    "    outputs=\"text\",\n",
    "    title=\"Chat with BlenderBot\", \n",
    "    description=\"Ask the BlenderBot anything and have a conversation!\",\n",
    ")\n",
    "\n",
    "# Launch the interface\n",
    "iface.launch()\n"
   ]
  }
 ],
 "metadata": {
  "kernelspec": {
   "display_name": "venv",
   "language": "python",
   "name": "python3"
  },
  "language_info": {
   "codemirror_mode": {
    "name": "ipython",
    "version": 3
   },
   "file_extension": ".py",
   "mimetype": "text/x-python",
   "name": "python",
   "nbconvert_exporter": "python",
   "pygments_lexer": "ipython3",
   "version": "3.10.15"
  }
 },
 "nbformat": 4,
 "nbformat_minor": 2
}
