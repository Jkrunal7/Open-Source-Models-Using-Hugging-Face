{
 "cells": [
  {
   "cell_type": "code",
   "execution_count": 17,
   "metadata": {},
   "outputs": [],
   "source": [
    "from dotenv import load_dotenv\n",
    "import os\n",
    "import requests\n",
    "load_dotenv()\n",
    "from PIL import Image\n",
    "import base64\n",
    "from transformers.utils import logging\n",
    "logging.set_verbosity_error()\n"
   ]
  },
  {
   "cell_type": "markdown",
   "metadata": {},
   "source": [
    "Accessing Model Using Huggingface Endpoint API:"
   ]
  },
  {
   "cell_type": "code",
   "execution_count": 18,
   "metadata": {},
   "outputs": [],
   "source": [
    "sec_key = os.getenv(\"HUGGINGFACEHUB_API_TOKEN\")\n",
    "os.environ[\"HUGGINGFACEHUB_API_TOKEN\"]=sec_key"
   ]
  },
  {
   "cell_type": "code",
   "execution_count": 19,
   "metadata": {},
   "outputs": [],
   "source": [
    "API_URL = \"https://api-inference.huggingface.co/models/openai/clip-vit-large-patch14\"\n",
    "headers = {\"Authorization\": f\"Bearer {sec_key}\"}"
   ]
  },
  {
   "cell_type": "markdown",
   "metadata": {},
   "source": [
    "1. With Function:"
   ]
  },
  {
   "cell_type": "code",
   "execution_count": 20,
   "metadata": {},
   "outputs": [],
   "source": [
    "def query(data):\n",
    "\twith open(data[\"image_path\"], \"rb\") as f:\n",
    "\t\timg = f.read()\n",
    "\tpayload={\n",
    "\t\t\"parameters\": {\"candidate_labels\": data[\"labels\"]},\n",
    "\t\t\"inputs\": base64.b64encode(img).decode(\"utf-8\"),\n",
    "\t}\n",
    "\tresponse = requests.post(API_URL, headers=headers, json=payload)\n",
    "\tresponse.raise_for_status()\n",
    "\treturn response.json()\n"
   ]
  },
  {
   "cell_type": "code",
   "execution_count": 28,
   "metadata": {},
   "outputs": [],
   "source": [
    "image_path = \"./friends.jpg\"  # Ensure this file exists\n",
    "labels = [\"a photo of a Men\", \"a photo of a dog\"]"
   ]
  },
  {
   "cell_type": "code",
   "execution_count": 29,
   "metadata": {},
   "outputs": [
    {
     "name": "stdout",
     "output_type": "stream",
     "text": [
      "Output: [{'score': 0.9946277737617493, 'label': 'a photo of a Men'}, {'score': 0.005372293293476105, 'label': 'a photo of a dog'}]\n"
     ]
    }
   ],
   "source": [
    "output = query({\n",
    "    \"image_path\": image_path,\n",
    "    \"labels\": labels,\n",
    "})\n",
    "\n",
    "print(\"Output:\", output)"
   ]
  },
  {
   "cell_type": "markdown",
   "metadata": {},
   "source": [
    "2. Without Function:"
   ]
  },
  {
   "cell_type": "code",
   "execution_count": 23,
   "metadata": {},
   "outputs": [],
   "source": [
    "# File path and labels\n",
    "image_path = \"./kittens.jpeg\"  # Ensure this file exists\n",
    "labels = [\"a photo of a cat\", \"a photo of a dog\"]"
   ]
  },
  {
   "cell_type": "code",
   "execution_count": 24,
   "metadata": {},
   "outputs": [],
   "source": [
    "# Read and encode the image in base64\n",
    "with open(image_path, \"rb\") as f:\n",
    "    img = f.read()"
   ]
  },
  {
   "cell_type": "code",
   "execution_count": 25,
   "metadata": {},
   "outputs": [],
   "source": [
    "# Construct the payload\n",
    "payload = {\n",
    "    \"inputs\": base64.b64encode(img).decode(\"utf-8\"),\n",
    "    \"parameters\": {\"candidate_labels\": labels},\n",
    "}"
   ]
  },
  {
   "cell_type": "code",
   "execution_count": 26,
   "metadata": {},
   "outputs": [],
   "source": [
    "# Perform the POST request\n",
    "response = requests.post(API_URL, headers=headers, json=payload)\n",
    "response.raise_for_status()  # Raise an error if the request fails"
   ]
  },
  {
   "cell_type": "code",
   "execution_count": 27,
   "metadata": {},
   "outputs": [
    {
     "name": "stdout",
     "output_type": "stream",
     "text": [
      "Output: [{'score': 0.9997337460517883, 'label': 'a photo of a cat'}, {'score': 0.00026627775514498353, 'label': 'a photo of a dog'}]\n"
     ]
    }
   ],
   "source": [
    "# Get the output\n",
    "output = response.json()\n",
    "print(\"Output:\", output)"
   ]
  }
 ],
 "metadata": {
  "kernelspec": {
   "display_name": "venv",
   "language": "python",
   "name": "python3"
  },
  "language_info": {
   "codemirror_mode": {
    "name": "ipython",
    "version": 3
   },
   "file_extension": ".py",
   "mimetype": "text/x-python",
   "name": "python",
   "nbconvert_exporter": "python",
   "pygments_lexer": "ipython3",
   "version": "3.10.15"
  }
 },
 "nbformat": 4,
 "nbformat_minor": 2
}
